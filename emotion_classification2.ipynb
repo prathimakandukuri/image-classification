{
  "nbformat": 4,
  "nbformat_minor": 0,
  "metadata": {
    "colab": {
      "provenance": []
    },
    "kernelspec": {
      "name": "python3",
      "display_name": "Python 3"
    },
    "language_info": {
      "name": "python"
    }
  },
  "cells": [
    {
      "cell_type": "code",
      "execution_count": null,
      "metadata": {
        "colab": {
          "base_uri": "https://localhost:8080/"
        },
        "id": "kAb9eu7Nlo_V",
        "outputId": "95eec13b-dd1b-4291-a1ea-71515bfd31a8"
      },
      "outputs": [
        {
          "output_type": "stream",
          "name": "stdout",
          "text": [
            "Mounted at /content/drive\n"
          ]
        }
      ],
      "source": [
        "from google.colab import drive\n",
        "drive.mount('/content/drive')"
      ]
    },
    {
      "cell_type": "code",
      "source": [
        "import pandas as pd\n",
        "import os\n",
        "import glob as gb\n",
        "from tensorflow import keras\n",
        "\n",
        "from keras.models import Sequential\n",
        "from keras.layers import Conv2D\n",
        "from keras.layers import MaxPooling2D\n",
        "from keras.layers import Flatten\n",
        "from keras.layers import Dense"
      ],
      "metadata": {
        "id": "ISdHsQQZn455"
      },
      "execution_count": null,
      "outputs": []
    },
    {
      "cell_type": "code",
      "source": [
        "import zipfile\n",
        "with zipfile.ZipFile('/content/drive/MyDrive/emotions_classification/archive (1).zip','r') as zip_ref:\n",
        "  zip_ref.extractall('/content/drive/MyDrive/emotions_classification2')"
      ],
      "metadata": {
        "id": "swhIvm7Sl7uR"
      },
      "execution_count": null,
      "outputs": []
    },
    {
      "cell_type": "code",
      "source": [
        "TRAIN_DIR='/content/drive/MyDrive/emotions_classification2/eINTERFACE_2021_Image/train'\n",
        "TEST_DIR='/content/drive/MyDrive/emotions_classification2/eINTERFACE_2021_Image/test'\n",
        "BATCH_SIZE=64"
      ],
      "metadata": {
        "id": "NlPOD884m-aJ"
      },
      "execution_count": null,
      "outputs": []
    },
    {
      "cell_type": "markdown",
      "source": [
        "Will see how many categories and images present"
      ],
      "metadata": {
        "id": "rBcfStYpofTG"
      }
    },
    {
      "cell_type": "code",
      "source": [
        "for folder in os.listdir(TRAIN_DIR):\n",
        "    files = gb.glob(pathname= str(TRAIN_DIR+ '/'+ folder + '/*.jpg'))\n",
        "    print(f'For training data, found {len(files)} in folder {folder}')"
      ],
      "metadata": {
        "colab": {
          "base_uri": "https://localhost:8080/"
        },
        "id": "ZiYbJ93Zoagn",
        "outputId": "6b30dffe-5c7e-4678-98c2-b65ef41a6306"
      },
      "execution_count": null,
      "outputs": [
        {
          "output_type": "stream",
          "name": "stdout",
          "text": [
            "For training data, found 1896 in folder Anger\n",
            "For training data, found 1891 in folder Disgust\n",
            "For training data, found 1922 in folder Fear\n",
            "For training data, found 1922 in folder Happiness\n",
            "For training data, found 1922 in folder Sadness\n",
            "For training data, found 1922 in folder Surprise\n"
          ]
        }
      ]
    },
    {
      "cell_type": "code",
      "source": [
        "for folder in os.listdir(TEST_DIR):\n",
        "    files = gb.glob(pathname= str(TEST_DIR+ '/'+ folder + '/*.jpg'))\n",
        "    print(f'For testing data, found {len(files)} in folder {folder}')"
      ],
      "metadata": {
        "colab": {
          "base_uri": "https://localhost:8080/"
        },
        "id": "Dy46q6BdokC1",
        "outputId": "9e876aea-270e-4d9d-8b50-82c4662c296c"
      },
      "execution_count": null,
      "outputs": [
        {
          "output_type": "stream",
          "name": "stdout",
          "text": [
            "For testing data, found 237 in folder Anger\n",
            "For testing data, found 237 in folder Disgust\n",
            "For testing data, found 241 in folder Fear\n",
            "For testing data, found 241 in folder Happiness\n",
            "For testing data, found 241 in folder Sadness\n",
            "For testing data, found 241 in folder Surprise\n"
          ]
        }
      ]
    },
    {
      "cell_type": "code",
      "source": [
        "import random\n",
        "import matplotlib.pyplot as plt\n",
        "import matplotlib.image as mpimg\n",
        "\n",
        "def view_random_image(target_dir, target_class):\n",
        "    # We will view images from here\n",
        "    target_folder = target_dir + target_class\n",
        "    \n",
        "    # Get a random image path\n",
        "    random_image = random.sample(od.listdir(target_folder), 1)\n",
        "    \n",
        "    # read in the image and plot it using matplolib\n",
        "    img = mpimg.imread(target_folder+'/'+random_image[0])\n",
        "    plt.imshow(img)\n",
        "    plt.title(target_class)\n",
        "    plt.axis('off')\n",
        "    print(f\"Image shape {img.shape}\")\n",
        "    \n",
        "    return img"
      ],
      "metadata": {
        "id": "ypkfYJRZopC5"
      },
      "execution_count": null,
      "outputs": []
    },
    {
      "cell_type": "code",
      "source": [
        "class_names = ['Anger','Disgust','Fear','Happiness','Sadness','Surprise']"
      ],
      "metadata": {
        "id": "z5NIhigAo2L9"
      },
      "execution_count": null,
      "outputs": []
    },
    {
      "cell_type": "markdown",
      "source": [
        "Preparing data for training"
      ],
      "metadata": {
        "id": "kdKjUESdpUfv"
      }
    },
    {
      "cell_type": "code",
      "source": [
        "from keras.preprocessing.image import ImageDataGenerator\n",
        "\n",
        "train_datagen = ImageDataGenerator(rescale = 1./255,\n",
        "                                   shear_range = 0.2,\n",
        "                                   zoom_range = 0.2,\n",
        "                                   horizontal_flip = True)\n",
        "\n",
        "test_datagen = ImageDataGenerator(rescale = 1./255)\n",
        "\n",
        "training_set = train_datagen.flow_from_directory(TRAIN_DIR,\n",
        "                                                 target_size = (128, 128),\n",
        "                                                 batch_size = BATCH_SIZE,\n",
        "                                                 class_mode = 'categorical')\n",
        "\n",
        "test_set = test_datagen.flow_from_directory(TEST_DIR,\n",
        "                                            target_size = (128, 128),\n",
        "                                            batch_size = BATCH_SIZE,\n",
        "                                            class_mode = 'categorical')"
      ],
      "metadata": {
        "colab": {
          "base_uri": "https://localhost:8080/"
        },
        "id": "b-zhWUVopYbx",
        "outputId": "20043dc6-21ea-400e-ee76-2f403e6c8160"
      },
      "execution_count": null,
      "outputs": [
        {
          "output_type": "stream",
          "name": "stdout",
          "text": [
            "Found 11475 images belonging to 6 classes.\n",
            "Found 1438 images belonging to 6 classes.\n"
          ]
        }
      ]
    },
    {
      "cell_type": "markdown",
      "source": [
        "Basic model building (CNN Classifier)"
      ],
      "metadata": {
        "id": "LUOR_-Uopf9L"
      }
    },
    {
      "cell_type": "code",
      "source": [
        "# Initialising the CNN\n",
        "classifier = Sequential()\n",
        "\n",
        "# Step 1 - Convolution\n",
        "classifier.add(Conv2D(16, (3, 3), input_shape = (128, 128, 3), activation = 'relu'))\n",
        "\n",
        "# Step 2 - Pooling\n",
        "classifier.add(MaxPooling2D(pool_size = (2, 2)))\n",
        "\n",
        "# Adding a second convolutional layer\n",
        "classifier.add(Conv2D(32, (3, 3), activation = 'relu'))\n",
        "classifier.add(MaxPooling2D(pool_size = (2, 2)))\n",
        "\n",
        "\n",
        "\n",
        "# Step 3 - Flattening\n",
        "classifier.add(Flatten())\n",
        "\n",
        "# Step 4 - Full connection\n",
        "classifier.add(Dense(units = 128, activation = 'relu'))\n",
        "\n",
        "classifier.add(Dense(units = 6, activation = 'softmax'))\n",
        "\n",
        "# Compiling the CNN\n",
        "classifier.compile(optimizer = 'adam', loss = 'categorical_crossentropy', metrics = ['accuracy'])"
      ],
      "metadata": {
        "id": "_kpkQg92pjz1"
      },
      "execution_count": null,
      "outputs": []
    },
    {
      "cell_type": "code",
      "source": [
        "## model summary\n",
        "classifier.summary()"
      ],
      "metadata": {
        "colab": {
          "base_uri": "https://localhost:8080/"
        },
        "id": "MPGTTsbcpobl",
        "outputId": "a353efcc-df42-41bd-9293-0135097ff7bd"
      },
      "execution_count": null,
      "outputs": [
        {
          "output_type": "stream",
          "name": "stdout",
          "text": [
            "Model: \"sequential\"\n",
            "_________________________________________________________________\n",
            " Layer (type)                Output Shape              Param #   \n",
            "=================================================================\n",
            " conv2d (Conv2D)             (None, 126, 126, 16)      448       \n",
            "                                                                 \n",
            " max_pooling2d (MaxPooling2D  (None, 63, 63, 16)       0         \n",
            " )                                                               \n",
            "                                                                 \n",
            " conv2d_1 (Conv2D)           (None, 61, 61, 32)        4640      \n",
            "                                                                 \n",
            " max_pooling2d_1 (MaxPooling  (None, 30, 30, 32)       0         \n",
            " 2D)                                                             \n",
            "                                                                 \n",
            " flatten (Flatten)           (None, 28800)             0         \n",
            "                                                                 \n",
            " dense (Dense)               (None, 128)               3686528   \n",
            "                                                                 \n",
            " dense_1 (Dense)             (None, 6)                 774       \n",
            "                                                                 \n",
            "=================================================================\n",
            "Total params: 3,692,390\n",
            "Trainable params: 3,692,390\n",
            "Non-trainable params: 0\n",
            "_________________________________________________________________\n"
          ]
        }
      ]
    },
    {
      "cell_type": "code",
      "source": [
        "\n",
        "history = classifier.fit(training_set,\n",
        "                         epochs = 50,\n",
        "                         validation_data = test_set)\n",
        "\n",
        "\n",
        "classifier.save('model1.h5')  # creates a HDF5 file 'my_model.h5'\n"
      ],
      "metadata": {
        "colab": {
          "base_uri": "https://localhost:8080/"
        },
        "id": "Q2k-Sj4Mprqc",
        "outputId": "871de5c5-dab7-4d12-bd8b-7239438572a1"
      },
      "execution_count": null,
      "outputs": [
        {
          "output_type": "stream",
          "name": "stdout",
          "text": [
            "Epoch 1/50\n",
            "180/180 [==============================] - 270s 1s/step - loss: 1.8012 - accuracy: 0.1957 - val_loss: 1.7311 - val_accuracy: 0.2246\n",
            "Epoch 2/50\n",
            "180/180 [==============================] - 236s 1s/step - loss: 1.6209 - accuracy: 0.3285 - val_loss: 1.5125 - val_accuracy: 0.3769\n",
            "Epoch 3/50\n",
            "180/180 [==============================] - 236s 1s/step - loss: 1.4755 - accuracy: 0.4030 - val_loss: 1.4125 - val_accuracy: 0.4117\n",
            "Epoch 4/50\n",
            "180/180 [==============================] - 231s 1s/step - loss: 1.3597 - accuracy: 0.4448 - val_loss: 1.2608 - val_accuracy: 0.4805\n",
            "Epoch 5/50\n",
            "180/180 [==============================] - 227s 1s/step - loss: 1.2650 - accuracy: 0.4942 - val_loss: 1.1691 - val_accuracy: 0.5313\n",
            "Epoch 6/50\n",
            "180/180 [==============================] - 234s 1s/step - loss: 1.1788 - accuracy: 0.5332 - val_loss: 1.1200 - val_accuracy: 0.5494\n",
            "Epoch 7/50\n",
            "180/180 [==============================] - 233s 1s/step - loss: 1.1059 - accuracy: 0.5606 - val_loss: 1.0543 - val_accuracy: 0.5848\n",
            "Epoch 8/50\n",
            "180/180 [==============================] - 241s 1s/step - loss: 1.0522 - accuracy: 0.5925 - val_loss: 1.0671 - val_accuracy: 0.5939\n",
            "Epoch 9/50\n",
            "180/180 [==============================] - 250s 1s/step - loss: 0.9995 - accuracy: 0.6098 - val_loss: 0.9881 - val_accuracy: 0.6321\n",
            "Epoch 10/50\n",
            "180/180 [==============================] - 243s 1s/step - loss: 0.9671 - accuracy: 0.6203 - val_loss: 0.9119 - val_accuracy: 0.6453\n",
            "Epoch 11/50\n",
            "180/180 [==============================] - 244s 1s/step - loss: 0.9228 - accuracy: 0.6424 - val_loss: 0.8994 - val_accuracy: 0.6439\n",
            "Epoch 12/50\n",
            "180/180 [==============================] - 246s 1s/step - loss: 0.8913 - accuracy: 0.6572 - val_loss: 0.9048 - val_accuracy: 0.6523\n",
            "Epoch 13/50\n",
            "180/180 [==============================] - 234s 1s/step - loss: 0.8455 - accuracy: 0.6716 - val_loss: 0.8038 - val_accuracy: 0.6968\n",
            "Epoch 14/50\n",
            "180/180 [==============================] - 233s 1s/step - loss: 0.8173 - accuracy: 0.6924 - val_loss: 0.8747 - val_accuracy: 0.6787\n",
            "Epoch 15/50\n",
            "180/180 [==============================] - 230s 1s/step - loss: 0.8085 - accuracy: 0.6903 - val_loss: 0.9259 - val_accuracy: 0.6572\n",
            "Epoch 16/50\n",
            "180/180 [==============================] - 243s 1s/step - loss: 0.7661 - accuracy: 0.7066 - val_loss: 0.8046 - val_accuracy: 0.6989\n",
            "Epoch 17/50\n",
            "180/180 [==============================] - 239s 1s/step - loss: 0.7472 - accuracy: 0.7150 - val_loss: 0.7880 - val_accuracy: 0.7065\n",
            "Epoch 18/50\n",
            "180/180 [==============================] - 233s 1s/step - loss: 0.7350 - accuracy: 0.7191 - val_loss: 0.7539 - val_accuracy: 0.7142\n",
            "Epoch 19/50\n",
            "180/180 [==============================] - 235s 1s/step - loss: 0.7151 - accuracy: 0.7221 - val_loss: 0.7822 - val_accuracy: 0.7003\n",
            "Epoch 20/50\n",
            "180/180 [==============================] - 243s 1s/step - loss: 0.6903 - accuracy: 0.7332 - val_loss: 0.8762 - val_accuracy: 0.6808\n",
            "Epoch 21/50\n",
            "180/180 [==============================] - 244s 1s/step - loss: 0.6758 - accuracy: 0.7444 - val_loss: 0.8261 - val_accuracy: 0.6968\n",
            "Epoch 22/50\n",
            "180/180 [==============================] - 251s 1s/step - loss: 0.6684 - accuracy: 0.7483 - val_loss: 0.7041 - val_accuracy: 0.7476\n",
            "Epoch 23/50\n",
            "180/180 [==============================] - 248s 1s/step - loss: 0.6563 - accuracy: 0.7525 - val_loss: 0.6496 - val_accuracy: 0.7650\n",
            "Epoch 24/50\n",
            "180/180 [==============================] - 244s 1s/step - loss: 0.6461 - accuracy: 0.7542 - val_loss: 0.8172 - val_accuracy: 0.7184\n",
            "Epoch 25/50\n",
            "180/180 [==============================] - 245s 1s/step - loss: 0.6365 - accuracy: 0.7583 - val_loss: 0.7772 - val_accuracy: 0.7316\n",
            "Epoch 26/50\n",
            "180/180 [==============================] - 244s 1s/step - loss: 0.6364 - accuracy: 0.7596 - val_loss: 0.7128 - val_accuracy: 0.7274\n",
            "Epoch 27/50\n",
            "180/180 [==============================] - 239s 1s/step - loss: 0.6103 - accuracy: 0.7694 - val_loss: 0.7468 - val_accuracy: 0.7316\n",
            "Epoch 28/50\n",
            "180/180 [==============================] - 242s 1s/step - loss: 0.6010 - accuracy: 0.7725 - val_loss: 0.7396 - val_accuracy: 0.7211\n",
            "Epoch 29/50\n",
            "180/180 [==============================] - 247s 1s/step - loss: 0.5987 - accuracy: 0.7752 - val_loss: 0.7175 - val_accuracy: 0.7399\n",
            "Epoch 30/50\n",
            "180/180 [==============================] - 249s 1s/step - loss: 0.5891 - accuracy: 0.7783 - val_loss: 0.7862 - val_accuracy: 0.7204\n",
            "Epoch 31/50\n",
            "180/180 [==============================] - 240s 1s/step - loss: 0.5655 - accuracy: 0.7883 - val_loss: 0.7330 - val_accuracy: 0.7399\n",
            "Epoch 32/50\n",
            "180/180 [==============================] - 235s 1s/step - loss: 0.5692 - accuracy: 0.7834 - val_loss: 0.8000 - val_accuracy: 0.7274\n",
            "Epoch 33/50\n",
            "180/180 [==============================] - 243s 1s/step - loss: 0.5651 - accuracy: 0.7901 - val_loss: 0.6511 - val_accuracy: 0.7663\n",
            "Epoch 34/50\n",
            "180/180 [==============================] - 243s 1s/step - loss: 0.5447 - accuracy: 0.7949 - val_loss: 0.8595 - val_accuracy: 0.7093\n",
            "Epoch 35/50\n",
            "180/180 [==============================] - 243s 1s/step - loss: 0.5393 - accuracy: 0.7956 - val_loss: 0.6269 - val_accuracy: 0.7650\n",
            "Epoch 36/50\n",
            "180/180 [==============================] - 236s 1s/step - loss: 0.5377 - accuracy: 0.7961 - val_loss: 0.7046 - val_accuracy: 0.7469\n",
            "Epoch 37/50\n",
            "180/180 [==============================] - 244s 1s/step - loss: 0.5126 - accuracy: 0.8054 - val_loss: 0.6198 - val_accuracy: 0.7677\n",
            "Epoch 38/50\n",
            "180/180 [==============================] - 244s 1s/step - loss: 0.5204 - accuracy: 0.8010 - val_loss: 0.7203 - val_accuracy: 0.7490\n",
            "Epoch 39/50\n",
            "180/180 [==============================] - 244s 1s/step - loss: 0.5113 - accuracy: 0.8080 - val_loss: 0.8525 - val_accuracy: 0.7156\n",
            "Epoch 40/50\n",
            "180/180 [==============================] - 241s 1s/step - loss: 0.5178 - accuracy: 0.8052 - val_loss: 0.9097 - val_accuracy: 0.6975\n",
            "Epoch 41/50\n",
            "180/180 [==============================] - 235s 1s/step - loss: 0.5035 - accuracy: 0.8117 - val_loss: 0.6501 - val_accuracy: 0.7691\n",
            "Epoch 42/50\n",
            "180/180 [==============================] - 248s 1s/step - loss: 0.5048 - accuracy: 0.8125 - val_loss: 0.7165 - val_accuracy: 0.7441\n",
            "Epoch 43/50\n",
            "180/180 [==============================] - 243s 1s/step - loss: 0.5036 - accuracy: 0.8109 - val_loss: 0.6795 - val_accuracy: 0.7629\n",
            "Epoch 44/50\n",
            "180/180 [==============================] - 241s 1s/step - loss: 0.5080 - accuracy: 0.8084 - val_loss: 0.7942 - val_accuracy: 0.7385\n",
            "Epoch 45/50\n",
            "180/180 [==============================] - 235s 1s/step - loss: 0.4721 - accuracy: 0.8210 - val_loss: 0.6236 - val_accuracy: 0.7712\n",
            "Epoch 46/50\n",
            "180/180 [==============================] - 231s 1s/step - loss: 0.4699 - accuracy: 0.8260 - val_loss: 0.7210 - val_accuracy: 0.7587\n",
            "Epoch 47/50\n",
            "180/180 [==============================] - 231s 1s/step - loss: 0.4838 - accuracy: 0.8173 - val_loss: 0.9066 - val_accuracy: 0.7038\n",
            "Epoch 48/50\n",
            "180/180 [==============================] - 232s 1s/step - loss: 0.4705 - accuracy: 0.8233 - val_loss: 0.6511 - val_accuracy: 0.7636\n",
            "Epoch 49/50\n",
            "180/180 [==============================] - 231s 1s/step - loss: 0.4742 - accuracy: 0.8231 - val_loss: 0.6176 - val_accuracy: 0.7747\n",
            "Epoch 50/50\n",
            "180/180 [==============================] - 228s 1s/step - loss: 0.4569 - accuracy: 0.8294 - val_loss: 0.6006 - val_accuracy: 0.7803\n"
          ]
        }
      ]
    },
    {
      "cell_type": "markdown",
      "source": [
        "Evaluating the model"
      ],
      "metadata": {
        "id": "Mwr3PJeep_4m"
      }
    },
    {
      "cell_type": "code",
      "source": [
        "classifier.evaluate(test_set)"
      ],
      "metadata": {
        "colab": {
          "base_uri": "https://localhost:8080/"
        },
        "id": "56YKJjClp96o",
        "outputId": "87639d2f-0c92-4e2a-a7c1-6998e6619c54"
      },
      "execution_count": null,
      "outputs": [
        {
          "output_type": "stream",
          "name": "stdout",
          "text": [
            "23/23 [==============================] - 20s 889ms/step - loss: 0.6006 - accuracy: 0.7803\n"
          ]
        },
        {
          "output_type": "execute_result",
          "data": {
            "text/plain": [
              "[0.600553035736084, 0.7802503705024719]"
            ]
          },
          "metadata": {},
          "execution_count": 18
        }
      ]
    },
    {
      "cell_type": "code",
      "source": [
        "model_path = \"model1.h5\"\n",
        "loaded_model = keras.models.load_model(model_path)\n",
        "\n",
        "import matplotlib.pyplot as plt\n",
        "import numpy as np\n",
        "import cv2\n",
        "from PIL import Image\n",
        "\n",
        "image = cv2.imread(\"/content/drive/MyDrive/emotions_classification2/eINTERFACE_2021_Image/val/Fear/myvideo_frames0_jpg.rf.61ae5cfe8cc3452f5b534d02cc5a56ec.jpg\")#read the images from directory\n",
        "\n",
        "image_fromarray = Image.fromarray(image, 'RGB')  #image is converted to array\n",
        "resize_image = image_fromarray.resize((128, 128)) #coverted array is rsized \n",
        "expand_input = np.expand_dims(resize_image,axis=0)\n",
        "input_data = np.array(expand_input)\n",
        "input_data = input_data/255 #normalizing \n",
        "\n",
        "pred = loaded_model.predict(input_data)\n",
        "result = pred.argmax()\n",
        "result"
      ],
      "metadata": {
        "colab": {
          "base_uri": "https://localhost:8080/"
        },
        "id": "u698mGfEqMXI",
        "outputId": "9fb81249-882b-4caf-a438-89a5c548bf5f"
      },
      "execution_count": null,
      "outputs": [
        {
          "output_type": "execute_result",
          "data": {
            "text/plain": [
              "2"
            ]
          },
          "metadata": {},
          "execution_count": 20
        }
      ]
    },
    {
      "cell_type": "code",
      "source": [
        "training_set.class_indices"
      ],
      "metadata": {
        "colab": {
          "base_uri": "https://localhost:8080/"
        },
        "id": "ub-3VCLOqPww",
        "outputId": "929465c8-071c-4686-c86d-68fb8c44a3fe"
      },
      "execution_count": null,
      "outputs": [
        {
          "output_type": "execute_result",
          "data": {
            "text/plain": [
              "{'Anger': 0,\n",
              " 'Disgust': 1,\n",
              " 'Fear': 2,\n",
              " 'Happiness': 3,\n",
              " 'Sadness': 4,\n",
              " 'Surprise': 5}"
            ]
          },
          "metadata": {},
          "execution_count": 21
        }
      ]
    },
    {
      "cell_type": "code",
      "source": [],
      "metadata": {
        "id": "fgZsO0iEbKmz"
      },
      "execution_count": null,
      "outputs": []
    }
  ]
}